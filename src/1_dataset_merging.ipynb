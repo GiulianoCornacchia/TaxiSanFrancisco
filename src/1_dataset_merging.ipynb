{
 "cells": [
  {
   "cell_type": "markdown",
   "metadata": {},
   "source": [
    "# Notebook 1: Dataset merging\n",
    "<br>\n",
    "Dataset:\n",
    "The dataset describing the GPS coordinates of 536 taxis collected over 25 days in San Francisco (USA) is avaliable at <a href=\"https://crawdad.org/epfl/mobility/20090224/\">https://crawdad.org/epfl/mobility/20090224/</a>.\n",
    "\n",
    "\n",
    "<br>\n",
    "<br>\n",
    "In this notebook, the 536 datasets describing the trips of as many Taxi are merged. \n"
   ]
  },
  {
   "cell_type": "code",
   "execution_count": 1,
   "metadata": {},
   "outputs": [
    {
     "name": "stderr",
     "output_type": "stream",
     "text": [
      "C:\\Users\\giuli\\Anaconda3\\envs\\skmob\\lib\\site-packages\\tqdm\\std.py:699: FutureWarning: The Panel class is removed from pandas. Accessing it from the top-level namespace will also be removed in the next version\n",
      "  from pandas import Panel\n"
     ]
    }
   ],
   "source": [
    "import pandas as pd\n",
    "import glob\n",
    "from datetime import timedelta\n",
    "from datetime import datetime\n",
    "from my_utils import *"
   ]
  },
  {
   "cell_type": "code",
   "execution_count": 2,
   "metadata": {},
   "outputs": [],
   "source": [
    "mydateparser = lambda x: pd.to_datetime(x, unit='s') + timedelta(minutes=-7*60)\n",
    "\n",
    "src_path = '../data/cabspottingdata/new_*.txt'\n",
    "file_list = glob.glob(src_path)"
   ]
  },
  {
   "cell_type": "code",
   "execution_count": 3,
   "metadata": {},
   "outputs": [
    {
     "name": "stdout",
     "output_type": "stream",
     "text": [
      "Wall time: 11 s\n"
     ]
    }
   ],
   "source": [
    "%%time\n",
    "#merge together all the datasets\n",
    "\n",
    "dfs = []\n",
    "\n",
    "for f in file_list:  \n",
    "    df = pd.read_csv(f, sep=' ', header=None, names=['latitude', 'longitude', 'occupancy', 'time'])\n",
    "    taxi_id = f.split('\\\\new_')[1].split('.')[0]\n",
    "    df['taxi_id'] = taxi_id\n",
    "    df = df[['taxi_id','latitude','longitude','occupancy','time']]\n",
    "    dfs.append(df)\n",
    "\n",
    "df_taxicab = pd.concat(dfs)\n",
    "\n",
    "#convert time (from UTC to Local time for San Francisco)\n",
    "correct_time = pd.to_datetime(df_taxicab['time'], unit='s') + timedelta(minutes=-7*60)\n",
    "df_taxicab['time'] = correct_time\n",
    "\n",
    "df_taxicab = df_taxicab.sort_values(by=['taxi_id', 'time'])"
   ]
  },
  {
   "cell_type": "code",
   "execution_count": 4,
   "metadata": {},
   "outputs": [
    {
     "data": {
      "text/html": [
       "<div>\n",
       "<style scoped>\n",
       "    .dataframe tbody tr th:only-of-type {\n",
       "        vertical-align: middle;\n",
       "    }\n",
       "\n",
       "    .dataframe tbody tr th {\n",
       "        vertical-align: top;\n",
       "    }\n",
       "\n",
       "    .dataframe thead th {\n",
       "        text-align: right;\n",
       "    }\n",
       "</style>\n",
       "<table border=\"1\" class=\"dataframe\">\n",
       "  <thead>\n",
       "    <tr style=\"text-align: right;\">\n",
       "      <th></th>\n",
       "      <th>taxi_id</th>\n",
       "      <th>latitude</th>\n",
       "      <th>longitude</th>\n",
       "      <th>occupancy</th>\n",
       "      <th>time</th>\n",
       "    </tr>\n",
       "  </thead>\n",
       "  <tbody>\n",
       "    <tr>\n",
       "      <th>23494</th>\n",
       "      <td>abboip</td>\n",
       "      <td>37.75153</td>\n",
       "      <td>-122.39447</td>\n",
       "      <td>0</td>\n",
       "      <td>2008-05-17 07:12:10</td>\n",
       "    </tr>\n",
       "    <tr>\n",
       "      <th>23493</th>\n",
       "      <td>abboip</td>\n",
       "      <td>37.75149</td>\n",
       "      <td>-122.39447</td>\n",
       "      <td>0</td>\n",
       "      <td>2008-05-17 07:13:34</td>\n",
       "    </tr>\n",
       "    <tr>\n",
       "      <th>23492</th>\n",
       "      <td>abboip</td>\n",
       "      <td>37.75149</td>\n",
       "      <td>-122.39447</td>\n",
       "      <td>0</td>\n",
       "      <td>2008-05-17 07:14:34</td>\n",
       "    </tr>\n",
       "  </tbody>\n",
       "</table>\n",
       "</div>"
      ],
      "text/plain": [
       "      taxi_id  latitude  longitude  occupancy                time\n",
       "23494  abboip  37.75153 -122.39447          0 2008-05-17 07:12:10\n",
       "23493  abboip  37.75149 -122.39447          0 2008-05-17 07:13:34\n",
       "23492  abboip  37.75149 -122.39447          0 2008-05-17 07:14:34"
      ]
     },
     "execution_count": 4,
     "metadata": {},
     "output_type": "execute_result"
    }
   ],
   "source": [
    "#let's have a look at the merged dataset\n",
    "\n",
    "df_taxicab[:3]"
   ]
  },
  {
   "cell_type": "markdown",
   "metadata": {},
   "source": [
    "Each row in the dataset describes the position (GPS point) of a taxi at a specific time; each row has five attributes:\n",
    "- `taxi_id`: the identifier of the taxi\n",
    "- `latitude`: the latitude of the GPS point\n",
    "- `longitude`: the longitude of the GPS point\n",
    "- `occupancy`: specifies if the taxi has a fare or is vacant (0 = free, 1 = occupied)\n",
    "- `time`: the timestamp relative at the GPS point\n",
    "\n"
   ]
  },
  {
   "cell_type": "code",
   "execution_count": 5,
   "metadata": {},
   "outputs": [
    {
     "name": "stdout",
     "output_type": "stream",
     "text": [
      "Dataset info:\n",
      "# of taxis: 539\n",
      "# of GPS points: 11258862\n",
      "from: 2008-05-17 03:00:04\n",
      "to: 2008-06-10 02:25:34\n"
     ]
    }
   ],
   "source": [
    "#some statistics\n",
    "\n",
    "n_taxis = len(df_taxicab['taxi_id'].unique())\n",
    "from_ = df_taxicab['time'].min()\n",
    "to_ = df_taxicab['time'].max()\n",
    "\n",
    "print(\"Dataset info:\")\n",
    "print(\"# of taxis: \"+str(n_taxis))\n",
    "print(\"# of GPS points: \"+str(len(df_taxicab)))\n",
    "print(\"from: \"+str(from_))\n",
    "print(\"to: \"+str(to_))"
   ]
  },
  {
   "cell_type": "code",
   "execution_count": 6,
   "metadata": {},
   "outputs": [
    {
     "name": "stdout",
     "output_type": "stream",
     "text": [
      "Wall time: 1min\n"
     ]
    }
   ],
   "source": [
    "%%time\n",
    "\n",
    "#save the dataset\n",
    "save_csv_zipped(df_taxicab,'taxicab_merged','datasets')"
   ]
  }
 ],
 "metadata": {
  "kernelspec": {
   "display_name": "Python 3",
   "language": "python",
   "name": "python3"
  },
  "language_info": {
   "codemirror_mode": {
    "name": "ipython",
    "version": 3
   },
   "file_extension": ".py",
   "mimetype": "text/x-python",
   "name": "python",
   "nbconvert_exporter": "python",
   "pygments_lexer": "ipython3",
   "version": "3.7.9"
  }
 },
 "nbformat": 4,
 "nbformat_minor": 4
}
