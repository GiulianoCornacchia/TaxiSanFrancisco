{
 "cells": [
  {
   "cell_type": "markdown",
   "metadata": {},
   "source": [
    "<img src=\".\\img\\cover_project.png\"><br><br>\n",
    "<i>Each San Francisco based Yellow Cab vehicle is currently outfitted with a GPS tracking device that is used by dispatchers to efficiently reach customers. The data is transmitted from each cab to a central receiving station and then delivered in real-time to dispatch computers via a central server. This system broadcasts the cab call number, location, and whether the cab currently has a fare.</i><br><br>\n",
    "Author: <a href=\"https://kdd.isti.cnr.it/people/cornacchia-giuliano\">Giuliano Cornacchia</a>, Ph.D. student."
   ]
  },
  {
   "cell_type": "markdown",
   "metadata": {},
   "source": [
    "### Project overview"
   ]
  },
  {
   "cell_type": "markdown",
   "metadata": {},
   "source": [
    "This project aims to analyze the GPS traces of 536 taxis operating in San Francisco over 25 days.<br><br>\n",
    "The methods and tools used in this project are the ones presented in the Ph.D. course \"Data Mining & Machine Learning Fundamentals\" held by Mirco Nanni, a Researcher at ISTI - CNR in Pisa.\n",
    "<br><br>\n",
    "The dataset containing the mobility trajectories can be freely downloaded at <a href=\"https://crawdad.org/epfl/mobility/20090224/\">https://crawdad.org/epfl/mobility/20090224/</a>.<br><br>\n",
    "All the experiments were performed on a notebook with an AMD Ryzen 7 4800H CPU and 16 GB of RAM."
   ]
  },
  {
   "cell_type": "markdown",
   "metadata": {},
   "source": [
    "### Project files"
   ]
  },
  {
   "cell_type": "markdown",
   "metadata": {},
   "source": [
    "The project is composed of two main folders: `src` and `data`."
   ]
  },
  {
   "cell_type": "markdown",
   "metadata": {},
   "source": [
    "#### Folder `src`\n",
    "The folder `src` includes eight jupyter notebooks (including this one) that compose the project and a Python file `my_utils.py` including some utility functions."
   ]
  },
  {
   "cell_type": "markdown",
   "metadata": {},
   "source": [
    "The notebooks are the following:\n",
    "- `0_introduction.ipynb`\n",
    "- `1_dataset_merging.ipynb`\n",
    "- `2_data_pre_processing.ipynb`\n",
    "- `3_exploratory_analysis.ipynb`\n",
    "- `4_clustering_dbscan.ipynb`\n",
    "- `5_clustering_kmeans.ipynb`\n",
    "- `6_classification.ipynb`\n",
    "- `7_pattern_mining.ipynb`\n",
    "<br><br>\n",
    "The number included in the filename suggests in which order to execute the notebooks for a correct exploration of the project, while the name provides information on the tasks performed in it."
   ]
  },
  {
   "cell_type": "markdown",
   "metadata": {},
   "source": [
    "#### Folder `data`\n",
    "The folder `data` includes six folders."
   ]
  },
  {
   "cell_type": "markdown",
   "metadata": {},
   "source": [
    "The notebooks are the following:\n",
    "- `cabspottingdata`: it contains the original dataset.\n",
    "- `datasets`: it contains the processed datasets created during the project; they also are used to avoid re-executing time-consuming operations.\n",
    "- `plots`: it contains the plots generated through analysis performed in the project.\n",
    "- `models`: it contains pre-trained classification models created through the project.\n",
    "- `results`: it contains the results of the cross-validations performed in the notebook `6_classification.ipynb`.\n",
    "- `shapes`: it contains the shapefiles used to create map and geo-spatial analysis.\n",
    "<br><br>"
   ]
  }
 ],
 "metadata": {
  "kernelspec": {
   "display_name": "Python 3",
   "language": "python",
   "name": "python3"
  },
  "language_info": {
   "codemirror_mode": {
    "name": "ipython",
    "version": 3
   },
   "file_extension": ".py",
   "mimetype": "text/x-python",
   "name": "python",
   "nbconvert_exporter": "python",
   "pygments_lexer": "ipython3",
   "version": "3.7.9"
  }
 },
 "nbformat": 4,
 "nbformat_minor": 4
}
