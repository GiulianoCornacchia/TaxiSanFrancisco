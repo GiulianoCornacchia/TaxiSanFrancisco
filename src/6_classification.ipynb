{
 "cells": [
  {
   "cell_type": "markdown",
   "metadata": {},
   "source": [
    "# Notebook 6: Classification\n",
    "<br>\n",
    "In this notebook, we use some classification methods to predict if a ride was performed with or without a passenger."
   ]
  },
  {
   "cell_type": "code",
   "execution_count": 1,
   "metadata": {},
   "outputs": [
    {
     "name": "stderr",
     "output_type": "stream",
     "text": [
      "C:\\Users\\giuli\\Anaconda3\\envs\\skmob\\lib\\site-packages\\tqdm\\std.py:699: FutureWarning: The Panel class is removed from pandas. Accessing it from the top-level namespace will also be removed in the next version\n",
      "  from pandas import Panel\n"
     ]
    }
   ],
   "source": [
    "import pandas as pd\n",
    "import numpy as np\n",
    "import matplotlib.pyplot as plt\n",
    "from sklearn.model_selection import train_test_split\n",
    "from my_utils import *\n",
    "import pickle"
   ]
  },
  {
   "cell_type": "markdown",
   "metadata": {},
   "source": [
    "### Outline\n",
    "\n",
    "1. [Data loading](#dataloading)\n",
    "2. [Data preparation](#data_prep)\n",
    "3. [Classification](#classification)<br>\n",
    "    3.1 [Dummy classifiers](#dummy)<br>\n",
    "    3.2 [Decision tree](#dtree)<br>\n",
    "    3.3 [Random forest](#rforest)<br>\n",
    "    3.4 [k-nearest neighbors](#knn)<br>\n",
    "    3.5 [Artifical neural network](#ann)<br>\n",
    "4. [Final model selection and model assessment](#conc)\n"
   ]
  },
  {
   "cell_type": "markdown",
   "metadata": {},
   "source": [
    "<a id=\"dataloading\"></a>\n",
    "## 1. Data loading\n",
    "Load the clean ride dataset (computed in the jupyter notebook `2_data_pre_processing.ipynb`)"
   ]
  },
  {
   "cell_type": "code",
   "execution_count": 2,
   "metadata": {},
   "outputs": [],
   "source": [
    "dataset_rides_path = '../data/datasets/tdf_rides_clean.zip'\n",
    "\n",
    "#load the clean rides dataset\n",
    "tdf_rides = pd.read_csv(dataset_rides_path, sep='\\t', \n",
    "                        parse_dates=['start_time','end_time'], compression='zip')"
   ]
  },
  {
   "cell_type": "code",
   "execution_count": 3,
   "metadata": {},
   "outputs": [
    {
     "data": {
      "text/html": [
       "<div>\n",
       "<style scoped>\n",
       "    .dataframe tbody tr th:only-of-type {\n",
       "        vertical-align: middle;\n",
       "    }\n",
       "\n",
       "    .dataframe tbody tr th {\n",
       "        vertical-align: top;\n",
       "    }\n",
       "\n",
       "    .dataframe thead th {\n",
       "        text-align: right;\n",
       "    }\n",
       "</style>\n",
       "<table border=\"1\" class=\"dataframe\">\n",
       "  <thead>\n",
       "    <tr style=\"text-align: right;\">\n",
       "      <th></th>\n",
       "      <th>uid</th>\n",
       "      <th>traj_id</th>\n",
       "      <th>occupancy</th>\n",
       "      <th>start_lat</th>\n",
       "      <th>start_lng</th>\n",
       "      <th>start_time</th>\n",
       "      <th>end_lat</th>\n",
       "      <th>end_lng</th>\n",
       "      <th>end_time</th>\n",
       "      <th>dist_start_end</th>\n",
       "      <th>cumulative_distance</th>\n",
       "      <th>avg_speed_kmh</th>\n",
       "      <th>dt_seconds</th>\n",
       "      <th>start_hour</th>\n",
       "      <th>day</th>\n",
       "    </tr>\n",
       "  </thead>\n",
       "  <tbody>\n",
       "    <tr>\n",
       "      <th>0</th>\n",
       "      <td>abboip</td>\n",
       "      <td>0</td>\n",
       "      <td>0</td>\n",
       "      <td>37.75149</td>\n",
       "      <td>-122.39447</td>\n",
       "      <td>2008-05-17 07:12:10</td>\n",
       "      <td>37.749775</td>\n",
       "      <td>-122.397165</td>\n",
       "      <td>2008-05-17 07:50:44</td>\n",
       "      <td>0.304153</td>\n",
       "      <td>0.321501</td>\n",
       "      <td>5.056473</td>\n",
       "      <td>2314</td>\n",
       "      <td>7</td>\n",
       "      <td>5</td>\n",
       "    </tr>\n",
       "    <tr>\n",
       "      <th>1</th>\n",
       "      <td>abboip</td>\n",
       "      <td>1</td>\n",
       "      <td>1</td>\n",
       "      <td>37.74896</td>\n",
       "      <td>-122.40619</td>\n",
       "      <td>2008-05-17 07:52:11</td>\n",
       "      <td>37.755660</td>\n",
       "      <td>-122.414395</td>\n",
       "      <td>2008-05-17 07:55:58</td>\n",
       "      <td>1.037017</td>\n",
       "      <td>1.456743</td>\n",
       "      <td>22.897152</td>\n",
       "      <td>227</td>\n",
       "      <td>7</td>\n",
       "      <td>5</td>\n",
       "    </tr>\n",
       "    <tr>\n",
       "      <th>2</th>\n",
       "      <td>abboip</td>\n",
       "      <td>2</td>\n",
       "      <td>0</td>\n",
       "      <td>37.76172</td>\n",
       "      <td>-122.41496</td>\n",
       "      <td>2008-05-17 07:57:10</td>\n",
       "      <td>37.750530</td>\n",
       "      <td>-122.420860</td>\n",
       "      <td>2008-05-17 08:10:22</td>\n",
       "      <td>1.348054</td>\n",
       "      <td>2.826816</td>\n",
       "      <td>16.491674</td>\n",
       "      <td>792</td>\n",
       "      <td>7</td>\n",
       "      <td>5</td>\n",
       "    </tr>\n",
       "  </tbody>\n",
       "</table>\n",
       "</div>"
      ],
      "text/plain": [
       "      uid  traj_id  occupancy  start_lat  start_lng          start_time  \\\n",
       "0  abboip        0          0   37.75149 -122.39447 2008-05-17 07:12:10   \n",
       "1  abboip        1          1   37.74896 -122.40619 2008-05-17 07:52:11   \n",
       "2  abboip        2          0   37.76172 -122.41496 2008-05-17 07:57:10   \n",
       "\n",
       "     end_lat     end_lng            end_time  dist_start_end  \\\n",
       "0  37.749775 -122.397165 2008-05-17 07:50:44        0.304153   \n",
       "1  37.755660 -122.414395 2008-05-17 07:55:58        1.037017   \n",
       "2  37.750530 -122.420860 2008-05-17 08:10:22        1.348054   \n",
       "\n",
       "   cumulative_distance  avg_speed_kmh  dt_seconds  start_hour  day  \n",
       "0             0.321501       5.056473        2314           7    5  \n",
       "1             1.456743      22.897152         227           7    5  \n",
       "2             2.826816      16.491674         792           7    5  "
      ]
     },
     "execution_count": 3,
     "metadata": {},
     "output_type": "execute_result"
    }
   ],
   "source": [
    "tdf_rides[:3]"
   ]
  },
  {
   "cell_type": "markdown",
   "metadata": {},
   "source": [
    "<a id=\"data_prep\"></a>\n",
    "## 2. Data preparation\n",
    "\n",
    "I will use a Cross Validation (CV) + test schema (80% for CV and 20% for testing)\n",
    "\n",
    "The CV is used for the **MODEL SELECTION** phase, while the test set is used for **MODEL ASSESSMENT**."
   ]
  },
  {
   "cell_type": "markdown",
   "metadata": {},
   "source": [
    "<img src=\"https://scikit-learn.org/stable/_images/grid_search_cross_validation.png\" style=\"width:500px\">"
   ]
  },
  {
   "cell_type": "code",
   "execution_count": 4,
   "metadata": {},
   "outputs": [],
   "source": [
    "#create X and y which contains the features and the output variable, respectively\n",
    "\n",
    "features = ['start_lat', 'start_lng', 'end_lat', 'end_lng', 'dist_start_end', \n",
    "                'cumulative_distance', 'avg_speed_kmh', 'dt_seconds', 'start_hour', 'day']\n",
    "\n",
    "target = 'occupancy'\n",
    "\n",
    "if target in features:\n",
    "    print(\"The target variable must not be included in the features.\")\n",
    "\n",
    "X = tdf_rides[features]\n",
    "y = tdf_rides[target]"
   ]
  },
  {
   "cell_type": "markdown",
   "metadata": {},
   "source": [
    "Train and test partitioning"
   ]
  },
  {
   "cell_type": "code",
   "execution_count": 5,
   "metadata": {},
   "outputs": [],
   "source": [
    "X_train, X_test, y_train, y_test = train_test_split(X, y, test_size=0.2,\n",
    "                                                    random_state=42, stratify=y)"
   ]
  },
  {
   "cell_type": "code",
   "execution_count": 6,
   "metadata": {},
   "outputs": [
    {
     "name": "stdout",
     "output_type": "stream",
     "text": [
      "(620299, 10) (620299,)\n",
      "(155075, 10) (155075,)\n"
     ]
    }
   ],
   "source": [
    "print(X_train.shape, y_train.shape)\n",
    "print(X_test.shape, y_test.shape)"
   ]
  },
  {
   "cell_type": "code",
   "execution_count": 7,
   "metadata": {},
   "outputs": [
    {
     "data": {
      "text/plain": [
       "(array([0, 1], dtype=int64), array([267835, 352464], dtype=int64))"
      ]
     },
     "execution_count": 7,
     "metadata": {},
     "output_type": "execute_result"
    }
   ],
   "source": [
    "np.unique(y_train, return_counts=True)"
   ]
  },
  {
   "cell_type": "markdown",
   "metadata": {},
   "source": [
    "## 3. Classification \n",
    "#### Task: predict whether a ride was performed with or without a passenger. <br>\n",
    "Given the starting position, destination, distance start-end, cumulative distance, avg.speed km/h, trip duration, start hour, and day of the week predict the binary variable occupancy. <br>\n",
    "\n",
    "- target: occupancy (binary classification)\n",
    "- Methods: Decision Tree, Random Forest, K-nn, ANN\n",
    "- Baselines: Dummy classifiers"
   ]
  },
  {
   "cell_type": "code",
   "execution_count": 8,
   "metadata": {},
   "outputs": [],
   "source": [
    "from sklearn.tree import DecisionTreeClassifier\n",
    "from sklearn.metrics import confusion_matrix\n",
    "from sklearn.metrics import accuracy_score, f1_score, classification_report\n",
    "from sklearn.model_selection import GridSearchCV\n",
    "from sklearn.model_selection import cross_val_score\n",
    "from sklearn import tree"
   ]
  },
  {
   "cell_type": "markdown",
   "metadata": {},
   "source": [
    "<a id=\"dummy\"></a>\n",
    "### 3.1 Dummy Classifiers"
   ]
  },
  {
   "cell_type": "code",
   "execution_count": 9,
   "metadata": {},
   "outputs": [],
   "source": [
    "from sklearn.dummy import DummyClassifier"
   ]
  },
  {
   "cell_type": "code",
   "execution_count": 10,
   "metadata": {},
   "outputs": [
    {
     "name": "stdout",
     "output_type": "stream",
     "text": [
      "always_0: 0.4317 (std. 1.4656)\n",
      "always_1: 0.5682 (std. 1.4656)\n",
      "random: 0.4997 (std. 0.0010)\n",
      "most_freq: 0.5682 (std. 1.4656)\n"
     ]
    }
   ],
   "source": [
    "#always 0\n",
    "dummy_0 = DummyClassifier(strategy=\"constant\", constant=0)\n",
    "dummy_0.fit(X_train,y_train)\n",
    "\n",
    "#always 1\n",
    "dummy_1 = DummyClassifier(strategy=\"constant\", constant=1)\n",
    "dummy_1.fit(X_train,y_train)\n",
    "\n",
    "# uniform at random\n",
    "dummy_uniform = DummyClassifier(strategy=\"uniform\", random_state=5)\n",
    "dummy_uniform.fit(X_train,y_train)\n",
    "\n",
    "# most frequent\n",
    "dummy_most_freq = DummyClassifier(strategy=\"most_frequent\")\n",
    "dummy_most_freq.fit(X_train,y_train)\n",
    "\n",
    "dummies = {'always_0':dummy_0,'always_1':dummy_1,\n",
    "           'random':dummy_uniform,'most_freq':dummy_most_freq}\n",
    "\n",
    "for k in dummies.keys():\n",
    "    clf = dummies[k]\n",
    "    score = cross_val_score(clf, X, y, cv=5)\n",
    "    print(k+\": \"+str(score.mean())[:6]+\" (std. \"+str(score.std())[:6]+\")\")"
   ]
  },
  {
   "cell_type": "markdown",
   "metadata": {},
   "source": [
    "As expected a dummy classifier accuracy is pretty low, given the nature of the problem."
   ]
  },
  {
   "cell_type": "markdown",
   "metadata": {},
   "source": [
    "<a id=\"dtree\"></a>\n",
    "### 3.2 Decision Tree"
   ]
  },
  {
   "cell_type": "markdown",
   "metadata": {},
   "source": [
    "Model selection phase"
   ]
  },
  {
   "cell_type": "code",
   "execution_count": 11,
   "metadata": {},
   "outputs": [],
   "source": [
    "params_list = {'max_depth': [None] + list(np.arange(2, 20, 2)),\n",
    "              'min_samples_split': [2, 5, 10, 20, 30, 50, 100],\n",
    "              'min_samples_leaf': [1, 5, 10, 20, 30, 50, 100],\n",
    "              'criterion': ['gini', 'entropy']\n",
    "             }"
   ]
  },
  {
   "cell_type": "markdown",
   "metadata": {},
   "source": [
    "The following is a time-consuming cell ($\\approx$ 51 min).\n",
    "\n",
    "If the file `../data/results/results_cv_decision_tree.zip` containing the result of the operations performed in the time-consuming cell is available, you can use `run_time_consuming_ops = False`, and the time-consuming operations won't be executed, since the cell will simply load the result file to save time.\n",
    "\n",
    " If you want to run the time-consuming operations anyway, set `run_time_consuming_ops = True`."
   ]
  },
  {
   "cell_type": "code",
   "execution_count": 12,
   "metadata": {},
   "outputs": [
    {
     "name": "stdout",
     "output_type": "stream",
     "text": [
      "Time-saving file loaded!\n",
      "Wall time: 10.1 ms\n"
     ]
    }
   ],
   "source": [
    "%%time\n",
    "\n",
    "run_time_consuming_ops = False\n",
    "\n",
    "if run_time_consuming_ops:\n",
    "\n",
    "    clf = DecisionTreeClassifier()\n",
    "\n",
    "    grid_search = GridSearchCV(clf, param_grid=params_list, cv=5, verbose=4, n_jobs=-1)\n",
    "    grid_search.fit(X_train, y_train)\n",
    "\n",
    "    #save the results (no need to compress)\n",
    "    df_cv_decision_tree = pd.DataFrame(grid_search.cv_results_)\n",
    "    df_cv_decision_tree.to_csv(\"../data/results/results_cv_decision_tree.csv\", \n",
    "                               sep='\\t', index=False)\n",
    "    print(\"Time consuming operations performed!\")\n",
    "    \n",
    "else:\n",
    "    df_cv_decision_tree = pd.read_csv(\"../data/results/results_cv_decision_tree.csv\", sep='\\t')\n",
    "    print(\"Time-saving file loaded!\")"
   ]
  },
  {
   "cell_type": "markdown",
   "metadata": {},
   "source": [
    "Look at the best 3 models (wrt validation score) and then select the best decision tree (model selection)."
   ]
  },
  {
   "cell_type": "code",
   "execution_count": 13,
   "metadata": {},
   "outputs": [
    {
     "name": "stdout",
     "output_type": "stream",
     "text": [
      "Model with rank: 1\n",
      "Mean validation score: 0.8062 (std: 0.0010)\n",
      "Parameters: {'criterion': 'entropy', 'max_depth': None, 'min_samples_leaf': 50, 'min_samples_split': 50}\n",
      "\n",
      "Model with rank: 2\n",
      "Mean validation score: 0.8062 (std: 0.0011)\n",
      "Parameters: {'criterion': 'entropy', 'max_depth': None, 'min_samples_leaf': 50, 'min_samples_split': 100}\n",
      "\n",
      "Model with rank: 3\n",
      "Mean validation score: 0.8062 (std: 0.0010)\n",
      "Parameters: {'criterion': 'entropy', 'max_depth': None, 'min_samples_leaf': 50, 'min_samples_split': 5}\n",
      "\n"
     ]
    }
   ],
   "source": [
    "report_results_cv(df_cv_decision_tree, n_top=3)"
   ]
  },
  {
   "cell_type": "markdown",
   "metadata": {},
   "source": [
    "The best Decision Tree model has the following parameters:\n",
    "\n",
    "Validation score = 0.8062\n",
    "\n",
    "max_depth: None <br>\n",
    "criterion: entropy <br>\n",
    "min_samples_leaf: 50 <br>\n",
    "min_samples_split: 50 <br>"
   ]
  },
  {
   "cell_type": "markdown",
   "metadata": {},
   "source": [
    "Train the best decision tree on the whole training set"
   ]
  },
  {
   "cell_type": "code",
   "execution_count": 14,
   "metadata": {},
   "outputs": [
    {
     "data": {
      "text/plain": [
       "DecisionTreeClassifier(criterion='entropy', min_samples_leaf=50,\n",
       "                       min_samples_split=50)"
      ]
     },
     "execution_count": 14,
     "metadata": {},
     "output_type": "execute_result"
    }
   ],
   "source": [
    "best_dt = DecisionTreeClassifier(criterion='entropy', max_depth=None, \n",
    "                                 min_samples_leaf=50, min_samples_split=50)\n",
    "\n",
    "best_dt.fit(X_train, y_train)"
   ]
  },
  {
   "cell_type": "markdown",
   "metadata": {},
   "source": [
    "Train accuracy"
   ]
  },
  {
   "cell_type": "code",
   "execution_count": 15,
   "metadata": {},
   "outputs": [
    {
     "name": "stdout",
     "output_type": "stream",
     "text": [
      "Train Accuracy 0.8338140154989772\n",
      "Train F1-score [0.80744553 0.85383052]\n",
      "\n",
      "              precision    recall  f1-score   support\n",
      "\n",
      "           0       0.81      0.81      0.81    267835\n",
      "           1       0.85      0.85      0.85    352464\n",
      "\n",
      "    accuracy                           0.83    620299\n",
      "   macro avg       0.83      0.83      0.83    620299\n",
      "weighted avg       0.83      0.83      0.83    620299\n",
      "\n"
     ]
    }
   ],
   "source": [
    "# compute the predictions on the train set\n",
    "y_pred_train = best_dt.predict(X_train)\n",
    "\n",
    "print('Train Accuracy %s' % accuracy_score(y_train, y_pred_train))\n",
    "print('Train F1-score %s' % f1_score(y_train, y_pred_train, average=None))\n",
    "print()\n",
    "print(classification_report(y_train, y_pred_train))"
   ]
  },
  {
   "cell_type": "markdown",
   "metadata": {},
   "source": [
    "### Model assessment"
   ]
  },
  {
   "cell_type": "markdown",
   "metadata": {},
   "source": [
    "Test accuracy (Model assessment)"
   ]
  },
  {
   "cell_type": "code",
   "execution_count": 16,
   "metadata": {},
   "outputs": [
    {
     "name": "stdout",
     "output_type": "stream",
     "text": [
      "Test Accuracy 0.8084797678542641\n",
      "Test F1-score [0.77802691 0.83158492]\n",
      "\n",
      "              precision    recall  f1-score   support\n",
      "\n",
      "           0       0.78      0.78      0.78     66959\n",
      "           1       0.83      0.83      0.83     88116\n",
      "\n",
      "    accuracy                           0.81    155075\n",
      "   macro avg       0.80      0.80      0.80    155075\n",
      "weighted avg       0.81      0.81      0.81    155075\n",
      "\n"
     ]
    }
   ],
   "source": [
    "# compute the predictions on the test set\n",
    "y_pred_test = best_dt.predict(X_test)\n",
    "\n",
    "print('Test Accuracy %s' % accuracy_score(y_test, y_pred_test))\n",
    "print('Test F1-score %s' % f1_score(y_test, y_pred_test, average=None))\n",
    "print()\n",
    "print(classification_report(y_test, y_pred_test))"
   ]
  },
  {
   "cell_type": "markdown",
   "metadata": {},
   "source": [
    "### feature importance"
   ]
  },
  {
   "cell_type": "code",
   "execution_count": 17,
   "metadata": {},
   "outputs": [
    {
     "data": {
      "image/png": "[encoded data removed]",
      "text/plain": [
       "<Figure size 432x288 with 1 Axes>"
      ]
     },
     "metadata": {
      "needs_background": "light"
     },
     "output_type": "display_data"
    }
   ],
   "source": [
    "plt.barh(features, best_dt.feature_importances_, color='darkorange')\n",
    "plt.xticks(rotation=45)\n",
    "plt.title(\"Feature importance best decision tree\")\n",
    "plt.ylabel(\"feature\")\n",
    "plt.xlabel(\"importance\")\n",
    "plt.grid(alpha=0.2)\n",
    "plt.savefig('../data/plots/feature_importance_dt.pdf')"
   ]
  },
  {
   "cell_type": "markdown",
   "metadata": {},
   "source": [
    "<a id=\"rforest\"></a>\n",
    "### 3.3 Random Forest"
   ]
  },
  {
   "cell_type": "code",
   "execution_count": 18,
   "metadata": {},
   "outputs": [],
   "source": [
    "from sklearn.ensemble import RandomForestClassifier"
   ]
  },
  {
   "cell_type": "code",
   "execution_count": 19,
   "metadata": {},
   "outputs": [],
   "source": [
    "params_list_rf = {'n_estimators':[51,75,101,125],\n",
    "              'max_depth': [None, 18],\n",
    "              'min_samples_split': [2, 5],\n",
    "              'min_samples_leaf': [1, 5]\n",
    "             }"
   ]
  },
  {
   "cell_type": "markdown",
   "metadata": {},
   "source": [
    "The following is a time-consuming cell ($\\approx$ 5 min).\n",
    "\n",
    "If the file `../data/results/results_cv_random_forest.zip` containing the result of the operations performed in the time-consuming cell is available, you can use `run_time_consuming_ops = False`, and the time-consuming operations won't be executed, since the cell will simply load the result file to save time.\n",
    "\n",
    " If you want to run the time-consuming operations anyway, set `run_time_consuming_ops = True`."
   ]
  },
  {
   "cell_type": "code",
   "execution_count": 20,
   "metadata": {},
   "outputs": [
    {
     "name": "stdout",
     "output_type": "stream",
     "text": [
      "Time-saving file loaded!\n",
      "Wall time: 0 ns\n"
     ]
    }
   ],
   "source": [
    "%%time\n",
    "\n",
    "run_time_consuming_ops = False\n",
    "\n",
    "if run_time_consuming_ops:\n",
    "\n",
    "    grid_search_rf = GridSearchCV(RandomForestClassifier(), param_grid=params_list_rf, cv=5, verbose=4, n_jobs=-1)\n",
    "    grid_search_rf.fit(X_train, y_train)\n",
    "\n",
    "    #save the results (no need to compress)\n",
    "    df_cv_random_forest = pd.DataFrame(grid_search_rf.cv_results_)\n",
    "    df_cv_random_forest.to_csv(\"../data/results/results_cv_random_forest.csv\", \n",
    "                               sep='\\t', index=False)\n",
    "else:\n",
    "    df_cv_random_forest = pd.read_csv(\"../data/results/results_cv_random_forest.csv\", sep='\\t')\n",
    "    print(\"Time-saving file loaded!\")"
   ]
  },
  {
   "cell_type": "markdown",
   "metadata": {},
   "source": [
    "Look at the best 3 models (wrt validation score) and then select the best random forest (model selection)."
   ]
  },
  {
   "cell_type": "code",
   "execution_count": 21,
   "metadata": {},
   "outputs": [
    {
     "name": "stdout",
     "output_type": "stream",
     "text": [
      "Model with rank: 1\n",
      "Mean validation score: 0.8384 (std: 0.0008)\n",
      "Parameters: {'max_depth': None, 'min_samples_leaf': 1, 'min_samples_split': 5, 'n_estimators': 101}\n",
      "\n",
      "Model with rank: 2\n",
      "Mean validation score: 0.8383 (std: 0.0005)\n",
      "Parameters: {'max_depth': None, 'min_samples_leaf': 1, 'min_samples_split': 2, 'n_estimators': 125}\n",
      "\n",
      "Model with rank: 3\n",
      "Mean validation score: 0.8381 (std: 0.0007)\n",
      "Parameters: {'max_depth': None, 'min_samples_leaf': 1, 'min_samples_split': 5, 'n_estimators': 125}\n",
      "\n"
     ]
    }
   ],
   "source": [
    "report_results_cv(df_cv_random_forest, n_top=3)"
   ]
  },
  {
   "cell_type": "markdown",
   "metadata": {},
   "source": [
    "The best Random Forest model has the following parameters:\n",
    "\n",
    "Validation score = 0.8384\n",
    "\n",
    "max_depth: None <br>\n",
    "n_estimators: 101 <br>\n",
    "min_samples_leaf: 1 <br>\n",
    "min_samples_split: 5 <br>"
   ]
  },
  {
   "cell_type": "markdown",
   "metadata": {},
   "source": [
    "Train on the whole training set"
   ]
  },
  {
   "cell_type": "code",
   "execution_count": 22,
   "metadata": {},
   "outputs": [
    {
     "name": "stdout",
     "output_type": "stream",
     "text": [
      "Wall time: 6min 14s\n"
     ]
    },
    {
     "data": {
      "text/plain": [
       "RandomForestClassifier(min_samples_split=5, n_estimators=101)"
      ]
     },
     "execution_count": 22,
     "metadata": {},
     "output_type": "execute_result"
    }
   ],
   "source": [
    "%%time\n",
    "best_rf = RandomForestClassifier(max_depth=None, n_estimators=101, min_samples_leaf=1,\n",
    "                                min_samples_split=5)\n",
    "\n",
    "best_rf.fit(X_train, y_train)"
   ]
  },
  {
   "cell_type": "markdown",
   "metadata": {},
   "source": [
    "Train accuracy"
   ]
  },
  {
   "cell_type": "code",
   "execution_count": 23,
   "metadata": {},
   "outputs": [
    {
     "name": "stdout",
     "output_type": "stream",
     "text": [
      "Train Accuracy 0.9967805848469851\n",
      "Train F1-score [0.99626915 0.99716871]\n",
      "\n",
      "              precision    recall  f1-score   support\n",
      "\n",
      "           0       1.00      1.00      1.00    267835\n",
      "           1       1.00      1.00      1.00    352464\n",
      "\n",
      "    accuracy                           1.00    620299\n",
      "   macro avg       1.00      1.00      1.00    620299\n",
      "weighted avg       1.00      1.00      1.00    620299\n",
      "\n",
      "Wall time: 34.5 s\n"
     ]
    }
   ],
   "source": [
    "%%time\n",
    "# compute the predictions on the train set\n",
    "y_pred_train_rf = best_rf.predict(X_train)\n",
    "print('Train Accuracy %s' % accuracy_score(y_train, y_pred_train_rf))\n",
    "print('Train F1-score %s' % f1_score(y_train, y_pred_train_rf, average=None))\n",
    "print()\n",
    "print(classification_report(y_train, y_pred_train_rf))"
   ]
  },
  {
   "cell_type": "markdown",
   "metadata": {},
   "source": [
    "### Model assessment"
   ]
  },
  {
   "cell_type": "markdown",
   "metadata": {},
   "source": [
    "Test accuracy (Model assessment)"
   ]
  },
  {
   "cell_type": "code",
   "execution_count": 24,
   "metadata": {},
   "outputs": [
    {
     "name": "stdout",
     "output_type": "stream",
     "text": [
      "Test Accuracy 0.8398581331613735\n",
      "Test F1-score [0.81321078 0.85985169]\n",
      "\n",
      "              precision    recall  f1-score   support\n",
      "\n",
      "           0       0.82      0.81      0.81     66959\n",
      "           1       0.86      0.86      0.86     88116\n",
      "\n",
      "    accuracy                           0.84    155075\n",
      "   macro avg       0.84      0.84      0.84    155075\n",
      "weighted avg       0.84      0.84      0.84    155075\n",
      "\n",
      "Wall time: 8.84 s\n"
     ]
    }
   ],
   "source": [
    "%%time\n",
    "# compute the predictions on the test set\n",
    "y_pred_test_rf = best_rf.predict(X_test)\n",
    "print('Test Accuracy %s' % accuracy_score(y_test, y_pred_test_rf))\n",
    "print('Test F1-score %s' % f1_score(y_test, y_pred_test_rf, average=None))\n",
    "print()\n",
    "print(classification_report(y_test, y_pred_test_rf))"
   ]
  },
  {
   "cell_type": "code",
   "execution_count": 25,
   "metadata": {
    "scrolled": true
   },
   "outputs": [
    {
     "data": {
      "image/png": "[encoded data removed]",
      "text/plain": [
       "<Figure size 432x288 with 1 Axes>"
      ]
     },
     "metadata": {
      "needs_background": "light"
     },
     "output_type": "display_data"
    }
   ],
   "source": [
    "plt.barh(features, best_rf.feature_importances_, color='darkorange')\n",
    "plt.xticks(rotation=45)\n",
    "plt.title(\"Feature importance best random forest\")\n",
    "plt.ylabel(\"feature\")\n",
    "plt.xlabel(\"importance\")\n",
    "plt.grid(alpha=0.2)\n",
    "plt.savefig('../data/plots/feature_importance_rf.pdf')"
   ]
  },
  {
   "cell_type": "markdown",
   "metadata": {},
   "source": [
    "<a id=\"knn\"></a>\n",
    "### 3.4 K-Nearest Neighbors"
   ]
  },
  {
   "cell_type": "code",
   "execution_count": 26,
   "metadata": {},
   "outputs": [],
   "source": [
    "from sklearn.neighbors import KNeighborsClassifier\n",
    "from sklearn.preprocessing import StandardScaler"
   ]
  },
  {
   "cell_type": "code",
   "execution_count": 27,
   "metadata": {},
   "outputs": [],
   "source": [
    "# apply a scaler when dealing with distance-based algorithms\n",
    "\n",
    "ss = StandardScaler()\n",
    "\n",
    "X_train_ss = ss.fit_transform(X_train)\n",
    "X_test_ss = ss.transform(X_test)"
   ]
  },
  {
   "cell_type": "code",
   "execution_count": 28,
   "metadata": {},
   "outputs": [],
   "source": [
    "params_list_knn = {'n_neighbors':[1,3,5,7,11,15,19,21,23,25,31],\n",
    "                  'weights': ['uniform','distance'],\n",
    "                  'metric': ['euclidean','manhattan'],\n",
    "                 }"
   ]
  },
  {
   "cell_type": "markdown",
   "metadata": {},
   "source": [
    "The following is a time-consuming cell ($\\approx$ 33 min).\n",
    "\n",
    "If the file `../data/results/results_cv_knn.zip` containing the result of the operations performed in the time-consuming cell is available, you can use `run_time_consuming_ops = False`, and the time-consuming operations won't be executed, since the cell will simply load the result file to save time.\n",
    "\n",
    " If you want to run the time-consuming operations anyway, set `run_time_consuming_ops = True`."
   ]
  },
  {
   "cell_type": "code",
   "execution_count": 29,
   "metadata": {},
   "outputs": [
    {
     "name": "stdout",
     "output_type": "stream",
     "text": [
      "Time-saving file loaded!\n",
      "Wall time: 0 ns\n"
     ]
    }
   ],
   "source": [
    "%%time\n",
    "\n",
    "run_time_consuming_ops = False\n",
    "\n",
    "if run_time_consuming_ops:\n",
    "\n",
    "    grid_search_knn = GridSearchCV(KNeighborsClassifier(), \n",
    "                                   param_grid=params_list_knn, cv=5, verbose=4, n_jobs=-1)\n",
    "\n",
    "    grid_search_knn.fit(X_train_ss, y_train)\n",
    "\n",
    "    #save the results (no need to compress)\n",
    "    df_cv_knn = pd.DataFrame(grid_search_knn.cv_results_)\n",
    "    df_cv_knn.to_csv(\"../data/results/results_cv_knn.csv\", sep='\\t', index=False)\n",
    "    \n",
    "else:\n",
    "    df_cv_knn = pd.read_csv(\"../data/results/results_cv_knn.csv\", sep='\\t')\n",
    "    print(\"Time-saving file loaded!\")  "
   ]
  },
  {
   "cell_type": "markdown",
   "metadata": {},
   "source": [
    "Look at the best 3 models (wrt validation score) and then select the best random forest (model selection)."
   ]
  },
  {
   "cell_type": "code",
   "execution_count": 30,
   "metadata": {},
   "outputs": [
    {
     "name": "stdout",
     "output_type": "stream",
     "text": [
      "Model with rank: 1\n",
      "Mean validation score: 0.8215 (std: 0.0005)\n",
      "Parameters: {'metric': 'manhattan', 'n_neighbors': 23, 'weights': 'distance'}\n",
      "\n",
      "Model with rank: 2\n",
      "Mean validation score: 0.8215 (std: 0.0003)\n",
      "Parameters: {'metric': 'manhattan', 'n_neighbors': 25, 'weights': 'distance'}\n",
      "\n",
      "Model with rank: 3\n",
      "Mean validation score: 0.8214 (std: 0.0003)\n",
      "Parameters: {'metric': 'manhattan', 'n_neighbors': 21, 'weights': 'distance'}\n",
      "\n"
     ]
    }
   ],
   "source": [
    "report_results_cv(df_cv_knn, n_top=3)"
   ]
  },
  {
   "cell_type": "markdown",
   "metadata": {},
   "source": [
    "The best K-nn model has the following parameters:\n",
    "\n",
    "Validation score = 0.8215\n",
    "\n",
    "n_neighbors: 23 <br>\n",
    "metric: manhattan <br>\n",
    "weights: distance <br>"
   ]
  },
  {
   "cell_type": "markdown",
   "metadata": {},
   "source": [
    "Train on the whole training set"
   ]
  },
  {
   "cell_type": "code",
   "execution_count": 31,
   "metadata": {},
   "outputs": [
    {
     "name": "stdout",
     "output_type": "stream",
     "text": [
      "Wall time: 4.71 s\n"
     ]
    },
    {
     "data": {
      "text/plain": [
       "KNeighborsClassifier(metric='manhattan', n_neighbors=23, weights='distance')"
      ]
     },
     "execution_count": 31,
     "metadata": {},
     "output_type": "execute_result"
    }
   ],
   "source": [
    "%%time\n",
    "best_knn = KNeighborsClassifier(metric='manhattan', \n",
    "                                n_neighbors=23, \n",
    "                                weights='distance')\n",
    "\n",
    "best_knn.fit(X_train_ss, y_train)"
   ]
  },
  {
   "cell_type": "markdown",
   "metadata": {},
   "source": [
    "Train accuracy"
   ]
  },
  {
   "cell_type": "markdown",
   "metadata": {},
   "source": [
    "The following is a time-consuming cell ($\\approx$ 10 min).\n",
    "\n",
    "If the file `../data/results/y_pred_train_knn.pickle` containing the result of the operations performed in the time-consuming cell is available, you can use `run_time_consuming_ops = False`, and the time-consuming operations won't be executed, since the cell will simply load the result file to save time.\n",
    "\n",
    " If you want to run the time-consuming operations anyway, set `run_time_consuming_ops = True`."
   ]
  },
  {
   "cell_type": "code",
   "execution_count": 32,
   "metadata": {},
   "outputs": [
    {
     "name": "stdout",
     "output_type": "stream",
     "text": [
      "Time-saving file loaded!\n",
      "Wall time: 0 ns\n"
     ]
    }
   ],
   "source": [
    "%%time\n",
    "# compute the predictions on the train set\n",
    "\n",
    "run_time_consuming_ops = False\n",
    "\n",
    "if run_time_consuming_ops:\n",
    "\n",
    "    y_pred_train_knn = best_knn.predict(X_train_ss)\n",
    "    \n",
    "    # save into a pickle file\n",
    "    with open('../data/results/y_pred_train_knn.pickle', 'wb') as handle:\n",
    "        pickle.dump(y_pred_train_knn, handle, protocol=pickle.HIGHEST_PROTOCOL)\n",
    "    \n",
    "else:\n",
    "    # load the pickle\n",
    "    with open('../data/results/y_pred_train_knn.pickle', 'rb') as handle:\n",
    "        y_pred_train_knn = pickle.load(handle)\n",
    "    print(\"Time-saving file loaded!\")"
   ]
  },
  {
   "cell_type": "code",
   "execution_count": 33,
   "metadata": {},
   "outputs": [
    {
     "name": "stdout",
     "output_type": "stream",
     "text": [
      "Train Accuracy 1.0\n",
      "Train F1-score [1. 1.]\n",
      "\n",
      "              precision    recall  f1-score   support\n",
      "\n",
      "           0       1.00      1.00      1.00    267835\n",
      "           1       1.00      1.00      1.00    352464\n",
      "\n",
      "    accuracy                           1.00    620299\n",
      "   macro avg       1.00      1.00      1.00    620299\n",
      "weighted avg       1.00      1.00      1.00    620299\n",
      "\n"
     ]
    }
   ],
   "source": [
    "print('Train Accuracy %s' % accuracy_score(y_train, y_pred_train_knn))\n",
    "print('Train F1-score %s' % f1_score(y_train, y_pred_train_knn, average=None))\n",
    "print()\n",
    "print(classification_report(y_train, y_pred_train_knn))"
   ]
  },
  {
   "cell_type": "markdown",
   "metadata": {},
   "source": [
    "### Model assessment"
   ]
  },
  {
   "cell_type": "markdown",
   "metadata": {},
   "source": [
    "Test accuracy (Risk estimation)"
   ]
  },
  {
   "cell_type": "markdown",
   "metadata": {},
   "source": [
    "The following is a time-consuming cell ($\\approx$ 3 min).\n",
    "\n",
    "If the file `../data/results/y_pred_test_knn.pickle` containing the result of the operations performed in the time-consuming cell is available, you can use `run_time_consuming_ops = False`, and the time-consuming operations won't be executed, since the cell will simply load the result file to save time.\n",
    "\n",
    " If you want to run the time-consuming operations anyway, set `run_time_consuming_ops = True`."
   ]
  },
  {
   "cell_type": "code",
   "execution_count": 34,
   "metadata": {},
   "outputs": [
    {
     "name": "stdout",
     "output_type": "stream",
     "text": [
      "Time-saving file loaded!\n",
      "Wall time: 0 ns\n"
     ]
    }
   ],
   "source": [
    "%%time\n",
    "# compute the predictions on the test set\n",
    "\n",
    "run_time_consuming_ops = False\n",
    "\n",
    "if run_time_consuming_ops:\n",
    "    \n",
    "    y_pred_test_knn = best_knn.predict(X_test_ss)\n",
    "    # save into a pickle file\n",
    "    with open('../data/results/y_pred_test_knn.pickle', 'wb') as handle:\n",
    "        pickle.dump(y_pred_test_knn, handle, protocol=pickle.HIGHEST_PROTOCOL)\n",
    "    \n",
    "else:\n",
    "    # load the pickle\n",
    "    with open('../data/results/y_pred_test_knn.pickle', 'rb') as handle:\n",
    "        y_pred_test_knn = pickle.load(handle)\n",
    "    print(\"Time-saving file loaded!\")"
   ]
  },
  {
   "cell_type": "code",
   "execution_count": 35,
   "metadata": {},
   "outputs": [
    {
     "name": "stdout",
     "output_type": "stream",
     "text": [
      "Test Accuracy 0.8225052394002902\n",
      "Test F1-score [0.79187932 0.8452739 ]\n",
      "\n",
      "              precision    recall  f1-score   support\n",
      "\n",
      "           0       0.80      0.78      0.79     66959\n",
      "           1       0.84      0.85      0.85     88116\n",
      "\n",
      "    accuracy                           0.82    155075\n",
      "   macro avg       0.82      0.82      0.82    155075\n",
      "weighted avg       0.82      0.82      0.82    155075\n",
      "\n"
     ]
    }
   ],
   "source": [
    "print('Test Accuracy %s' % accuracy_score(y_test, y_pred_test_knn))\n",
    "print('Test F1-score %s' % f1_score(y_test, y_pred_test_knn, average=None))\n",
    "print()\n",
    "print(classification_report(y_test, y_pred_test_knn))"
   ]
  },
  {
   "cell_type": "markdown",
   "metadata": {},
   "source": [
    "<a id=\"ann\"></a>\n",
    "### Artificial Neural Network"
   ]
  },
  {
   "cell_type": "code",
   "execution_count": 36,
   "metadata": {},
   "outputs": [],
   "source": [
    "from sklearn.neural_network import MLPClassifier"
   ]
  },
  {
   "cell_type": "code",
   "execution_count": 37,
   "metadata": {},
   "outputs": [],
   "source": [
    "# apply a scaler when dealing with distance-based algorithms\n",
    "\n",
    "ss = StandardScaler()\n",
    "\n",
    "X_train_ss = ss.fit_transform(X_train)\n",
    "X_test_ss = ss.transform(X_test)"
   ]
  },
  {
   "cell_type": "markdown",
   "metadata": {},
   "source": [
    "I performed different cross-validations varying only the hidden layer sizes.\n",
    "I didn't perform a grid search cross-validation due to the high training time required by the network.<br><br>\n",
    "The following table summarizes the validation scores obtained:"
   ]
  },
  {
   "cell_type": "markdown",
   "metadata": {},
   "source": [
    "|     hidden_layer_sizes     | Validation score |\n",
    "|:-------------:|:-----------:|\n",
    "| (60, 60, 60) |   0.8364   | \n",
    "| (70, 70, 70) |   0.8372    |     \n",
    "| (90, 90, 90) |   0.8374   |     \n",
    "| (100,100,100)|  0.8365    |\n",
    "|(30, 60, 60, 30)|0.8350|\n",
    "|(90, 50, 50, 90)|0.8364|"
   ]
  },
  {
   "cell_type": "markdown",
   "metadata": {},
   "source": [
    "The following is a time-consuming cell ($\\approx$ 3 min).\n",
    "\n",
    "If the file `../data/models/best_nn.pickle` containing the result of the operations performed in the time-consuming cell is available, you can use `run_time_consuming_ops = False`, and the time-consuming operations won't be executed, since the cell will simply load the result file to save time.\n",
    "\n",
    " If you want to run the time-consuming operations anyway, set `run_time_consuming_ops = True`."
   ]
  },
  {
   "cell_type": "code",
   "execution_count": 38,
   "metadata": {},
   "outputs": [
    {
     "name": "stdout",
     "output_type": "stream",
     "text": [
      "Time-saving file loaded!\n",
      "Wall time: 0 ns\n"
     ]
    }
   ],
   "source": [
    "%%time\n",
    "### train on the whole training set\n",
    "\n",
    "run_time_consuming_ops = False\n",
    "\n",
    "if run_time_consuming_ops:\n",
    "\n",
    "    best_nn = MLPClassifier(activation='relu', learning_rate_init = 0.0025, batch_size = 256, \n",
    "                            hidden_layer_sizes = (90, 90, 90), learning_rate = 'adaptive', \n",
    "                            max_iter = 2000, solver = 'adam', random_state = 42)\n",
    "\n",
    "    best_nn.fit(X_train_ss, y_train)\n",
    "    \n",
    "    # save the trained netwoek on a pickle file\n",
    "    with open('../data/models/best_nn.pickle', 'wb') as handle:\n",
    "        pickle.dump(best_nn, handle, protocol=pickle.HIGHEST_PROTOCOL)\n",
    "        \n",
    "else:\n",
    "    # restore the trained best_nn\n",
    "\n",
    "    with open('../data/models/best_nn.pickle', 'rb') as handle:\n",
    "        best_nn = pickle.load(handle)\n",
    "    print(\"Time-saving file loaded!\")"
   ]
  },
  {
   "cell_type": "code",
   "execution_count": 39,
   "metadata": {},
   "outputs": [
    {
     "data": {
      "image/png": "[encoded data removed]",
      "text/plain": [
       "<Figure size 432x288 with 1 Axes>"
      ]
     },
     "metadata": {
      "needs_background": "light"
     },
     "output_type": "display_data"
    }
   ],
   "source": [
    "#check the loss curve of the trained NN\n",
    "\n",
    "plt.plot(best_nn.loss_curve_)\n",
    "plt.title(\"Learning curve\")\n",
    "plt.xlabel(\"epochs\")\n",
    "plt.ylabel(\"loss\")\n",
    "plt.grid(alpha=0.2)\n",
    "plt.savefig('../data/plots/learning_curve_best_nn.pdf')"
   ]
  },
  {
   "cell_type": "markdown",
   "metadata": {},
   "source": [
    "Train accuracy"
   ]
  },
  {
   "cell_type": "code",
   "execution_count": 40,
   "metadata": {},
   "outputs": [
    {
     "name": "stdout",
     "output_type": "stream",
     "text": [
      "Train Accuracy 0.8526855597058838\n",
      "Train F1-score [0.82768076 0.87135317]\n"
     ]
    }
   ],
   "source": [
    "y_pred_train_ann = best_nn.predict(X_train_ss)\n",
    "print('Train Accuracy %s' % accuracy_score(y_train, y_pred_train_ann))\n",
    "print('Train F1-score %s' % f1_score(y_train, y_pred_train_ann, average=None))"
   ]
  },
  {
   "cell_type": "markdown",
   "metadata": {},
   "source": [
    "### Model assessment"
   ]
  },
  {
   "cell_type": "markdown",
   "metadata": {},
   "source": [
    "Test accuracy (Risk estimation)"
   ]
  },
  {
   "cell_type": "code",
   "execution_count": 41,
   "metadata": {},
   "outputs": [
    {
     "name": "stdout",
     "output_type": "stream",
     "text": [
      "Test Accuracy 0.8389102047396421\n",
      "Test F1-score [0.8113944  0.85941958]\n"
     ]
    }
   ],
   "source": [
    "y_pred_test_ann = best_nn.predict(X_test_ss)\n",
    "print('Test Accuracy %s' % accuracy_score(y_test, y_pred_test_ann))\n",
    "print('Test F1-score %s' % f1_score(y_test, y_pred_test_ann, average=None))"
   ]
  },
  {
   "cell_type": "markdown",
   "metadata": {},
   "source": [
    "<a id=\"conc\"></a>\n",
    "## 4. Final model selection and model assessment"
   ]
  },
  {
   "cell_type": "markdown",
   "metadata": {},
   "source": [
    "The following table summarizes the accuracy obtained from the classification models with respect to the training set, cross-validation, and test set.<br><br>\n",
    "We should select the model considering ONLY the **Validation Score** (model selection phase), and the model with the highest Validation score is the Random Forest (0.8384) with a model assessment score of 0.8392.<br><br>\n",
    "\n",
    "Futhermore, the results show that there is no overfitting for the models.<br><br>\n",
    "\n",
    "|     Model     | Train Score | Validation Score | Risk assessment |   |\n",
    "|:-------------:|:-----------:|:----------------:|:---------------:|---|\n",
    "| Decision tree |   0.8338    |      0.8062      |    0.8086  |   |\n",
    "| Random forest |   0.9965   |     0.8384      |     0.8392      |   |\n",
    "| K-nn          |    1.0      |     0.8215     |      0.8225   |   |\n",
    "|  ANN         |  0.8527        |     0.8374            |     0.8389           |   |"
   ]
  }
 ],
 "metadata": {
  "kernelspec": {
   "display_name": "Python 3",
   "language": "python",
   "name": "python3"
  },
  "language_info": {
   "codemirror_mode": {
    "name": "ipython",
    "version": 3
   },
   "file_extension": ".py",
   "mimetype": "text/x-python",
   "name": "python",
   "nbconvert_exporter": "python",
   "pygments_lexer": "ipython3",
   "version": "3.7.9"
  }
 },
 "nbformat": 4,
 "nbformat_minor": 4
}
